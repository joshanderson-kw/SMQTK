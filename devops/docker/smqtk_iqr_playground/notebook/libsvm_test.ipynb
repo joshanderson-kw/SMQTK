{
 "cells": [
  {
   "cell_type": "markdown",
   "id": "4aa1dd9b",
   "metadata": {},
   "source": [
    "# scikit-learn SVM vs libsvm comparison"
   ]
  },
  {
   "cell_type": "markdown",
   "id": "67042512",
   "metadata": {},
   "source": [
    "The purpose of this demonstration is to show that the libsvm library's Support Vector Machine (SVM) implementation and scikit-learn's SVM implementation give similar results on the same inputs.  \n",
    "\n",
    "Part 1 compares the two libraries using various SVM model types and parameters, part 2 launches the IQR demo with scikit-learn's SVM implementation, and part 3 launches the demo with the libsvm library."
   ]
  },
  {
   "cell_type": "markdown",
   "id": "4ac8e82a",
   "metadata": {},
   "source": [
    "## Part 1: Comparisons with LEEDS butterfly dataset"
   ]
  },
  {
   "cell_type": "markdown",
   "id": "9a227550",
   "metadata": {},
   "source": [
    "To compare the performance of the two libraries, we use the LEEDS butterfly dataset, found here: http://www.josiahwang.com/dataset/leedsbutterfly/"
   ]
  },
  {
   "cell_type": "markdown",
   "id": "cb817f72",
   "metadata": {},
   "source": [
    "### C-SVC, linear kernel comparison"
   ]
  },
  {
   "cell_type": "markdown",
   "id": "e49b0282",
   "metadata": {},
   "source": [
    "#### scikit-learn library\n",
    "#### Config file: configs/runApp.IqrService.sklearn_s0.json\n",
    "#### SVM parameters: *-b = 1 (probability estimates), -c = 2 (cost), -s = 0 (C-SVC), -t = 0 (linear kernel) *  "
   ]
  },
  {
   "cell_type": "markdown",
   "id": "3dccb9e9",
   "metadata": {},
   "source": [
    "Screenshot below shows the IQR state after initialization with image `0100173.png` as a positive example."
   ]
  },
  {
   "cell_type": "markdown",
   "id": "d1d7c6e7",
   "metadata": {},
   "source": [
    "<img src=\"sklearn_s0_t0_c2_b1_pic1.png\" title=\"sklearn_pic1\">"
   ]
  },
  {
   "cell_type": "markdown",
   "id": "ba961441",
   "metadata": {},
   "source": [
    "Next, we refine with pictures #1 and #2 as positive examples and #7 and #8 as negative examples.  \n",
    "\n",
    "Results are shown in the screenshot below."
   ]
  },
  {
   "cell_type": "markdown",
   "id": "65e698bd",
   "metadata": {},
   "source": [
    "<img src=\"sklearn_s0_t0_c2_b1_pic2.png\" title=\"sklearn_pic2\">"
   ]
  },
  {
   "cell_type": "markdown",
   "id": "b7a155b7",
   "metadata": {},
   "source": [
    "With these results as a baseline, we perform the same set of steps with the libsvm SVM implementation and the same parameters."
   ]
  },
  {
   "cell_type": "markdown",
   "id": "c2159bc9",
   "metadata": {},
   "source": [
    "#### libsvm library\n",
    "#### Config file: configs/runApp.IqrService.libsvm_s0.json\n",
    "#### SVM parameters: -b = 1 (probability estimates), -c = 2 (cost), -s = 0 (C-SVC), -t = 0 (linear kernel)"
   ]
  },
  {
   "cell_type": "markdown",
   "id": "5e531bd3",
   "metadata": {},
   "source": [
    "Screenshot below shows the IQR state after initialization."
   ]
  },
  {
   "cell_type": "markdown",
   "id": "ec2e1de5",
   "metadata": {},
   "source": [
    "<img src=\"libsvm_s0_t0_c2_b1_pic1.png\" title=\"libsvm_pic1\">"
   ]
  },
  {
   "cell_type": "markdown",
   "id": "9cef3dd1",
   "metadata": {},
   "source": [
    "And then we perform the same refinement as before (#1 and #2 = positive, #7 and #8 = negative)."
   ]
  },
  {
   "cell_type": "markdown",
   "id": "0ae4b6ae",
   "metadata": {},
   "source": [
    "<img src=\"libsvm_s0_t0_c2_b1_pic2.png\" title=\"libsvm_pic2\">"
   ]
  },
  {
   "cell_type": "markdown",
   "id": "e4d615bc",
   "metadata": {},
   "source": [
    "We can see that final results are nearly identical (within a few decimal places) to the scikit-learn SVM library."
   ]
  },
  {
   "cell_type": "markdown",
   "id": "d0f89a42",
   "metadata": {},
   "source": [
    "### Next, we compare the results with a different SVM type - nu-SVC"
   ]
  },
  {
   "cell_type": "markdown",
   "id": "e1268acc",
   "metadata": {},
   "source": [
    "#### scikit-learn library\n",
    "#### Config file: configs/runApp.IqrService.sklearn_s1.json\n",
    "#### SVM parameters: -b = 1 (probability estimates), -c = 2 (cost), -s = 1 (nu-SVC), -t = 0 (linear kernel)"
   ]
  },
  {
   "cell_type": "markdown",
   "id": "c777b5b0",
   "metadata": {},
   "source": [
    "Screenshot below shows the IQR state after initialization with image `0100173.png` as a positive example."
   ]
  },
  {
   "cell_type": "markdown",
   "id": "1b2cddf3",
   "metadata": {},
   "source": [
    "<img src=\"sklearn_s1_t0_c2_b1_pic1.png\" title=\"sklearn_pic3\">"
   ]
  },
  {
   "cell_type": "markdown",
   "id": "a2a3792f",
   "metadata": {},
   "source": [
    "Again, we refine with pictures #1 and #2 as positive examples and pictures #7 and #8 as negative examples."
   ]
  },
  {
   "cell_type": "markdown",
   "id": "4b13794c",
   "metadata": {},
   "source": [
    "<img src=\"sklearn_s1_t0_c2_b1_pic2.png\" title=\"sklearn_pic4\">"
   ]
  },
  {
   "cell_type": "markdown",
   "id": "771d811f",
   "metadata": {},
   "source": [
    "#### libsvm library\n",
    "#### Config file: configs/runApp.IqrService.libsvm_s1.json\n",
    "#### SVM parameters: -b = 1 (probability estimates), -c = 2 (cost), -s = 1 (nu-SVC), -t = 0 (linear kernel)"
   ]
  },
  {
   "cell_type": "markdown",
   "id": "f1a91657",
   "metadata": {},
   "source": [
    "Initial state below"
   ]
  },
  {
   "cell_type": "markdown",
   "id": "6b41ae04",
   "metadata": {},
   "source": [
    "<img src=\"libsvm_s1_t0_c2_b1_pic1.png\" title=\"libsvm_pic3\">"
   ]
  },
  {
   "cell_type": "markdown",
   "id": "378417a2",
   "metadata": {},
   "source": [
    "And then the same refinement as before."
   ]
  },
  {
   "cell_type": "markdown",
   "id": "78426f1f",
   "metadata": {},
   "source": [
    "<img src=\"libsvm_s1_t0_c2_b1_pic2.png\" title=\"libsvm_pic4\">"
   ]
  },
  {
   "cell_type": "markdown",
   "id": "a04b9609",
   "metadata": {},
   "source": [
    "As with the C-SVC model test, the results of the scikit-learn library and the libsvm library are nearly identical."
   ]
  },
  {
   "cell_type": "markdown",
   "id": "39a80cc0",
   "metadata": {},
   "source": [
    "## Part 2: Live demo with scikit-learn SVM"
   ]
  },
  {
   "cell_type": "markdown",
   "id": "b955f0b7",
   "metadata": {},
   "source": [
    "Run the cell below to run the IQR demo with the scikit-learn SVM implementation. After the application is started, login at http://localhost:5000/. Interrupt the kernel to continue to the next demo when you are finished."
   ]
  },
  {
   "cell_type": "code",
   "execution_count": null,
   "id": "12979296",
   "metadata": {},
   "outputs": [],
   "source": [
    "! runApplication -a IqrService -c configs/runApp.IqrService.sklearn.json & runApplication -a IqrSearchDispatcher -c configs/runApp.IqrSearchDispatcher.json && fg"
   ]
  },
  {
   "cell_type": "markdown",
   "id": "b9f26f15",
   "metadata": {},
   "source": [
    "## Part 3: Live demo with libsvm SVM"
   ]
  },
  {
   "cell_type": "markdown",
   "id": "dfb0bb2a",
   "metadata": {},
   "source": [
    "Run the cell below to run the IQR demo with the libsvm SVM implementation. After the application is started, login at http://localhost:5000/."
   ]
  },
  {
   "cell_type": "code",
   "execution_count": null,
   "id": "93bc00db",
   "metadata": {},
   "outputs": [],
   "source": [
    "! runApplication -a IqrService -c configs/runApp.IqrService.libsvm.json & runApplication -a IqrSearchDispatcher -c configs/runApp.IqrSearchDispatcher.json && fg"
   ]
  }
 ],
 "metadata": {
  "kernelspec": {
   "display_name": "Python 3",
   "language": "python",
   "name": "python3"
  },
  "language_info": {
   "codemirror_mode": {
    "name": "ipython",
    "version": 3
   },
   "file_extension": ".py",
   "mimetype": "text/x-python",
   "name": "python",
   "nbconvert_exporter": "python",
   "pygments_lexer": "ipython3",
   "version": "3.6.9"
  }
 },
 "nbformat": 4,
 "nbformat_minor": 5
}
